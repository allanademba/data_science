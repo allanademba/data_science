{
 "cells": [
  {
   "cell_type": "code",
   "execution_count": 1,
   "metadata": {},
   "outputs": [
    {
     "name": "stdout",
     "output_type": "stream",
     "text": [
      "('cx_Oracle.version:', '7.2.3')\n"
     ]
    }
   ],
   "source": [
    "import pandas as pd\n",
    "import sqlalchemy as db\n",
    "import cx_Oracle as orcl\n",
    "\n",
    "print(\"cx_Oracle.version:\", orcl.version)\n"
   ]
  },
  {
   "cell_type": "code",
   "execution_count": 2,
   "metadata": {},
   "outputs": [],
   "source": [
    "host = \"10.21.18.13\"\n",
    "port = \"1521\"\n",
    "sid = \"ECHODB1\"\n",
    "dsn = orcl.makedsn(host, port, sid)\n",
    "connection = orcl.connect(\"UAT\",\"uat\", dsn)\n",
    "cur = orcl.Cursor(connection) \n"
   ]
  },
  {
   "cell_type": "code",
   "execution_count": null,
   "metadata": {},
   "outputs": [],
   "source": [
    "##checking customer information\n",
    "statements = \"\"\"SELECT * FROM CUSTOMER\"\"\"\n",
    "customer = pd.read_sql_query(statements, connection)\n",
    "pd.set_option('display.max_columns', None)\n",
    "customer.head(4)"
   ]
  },
  {
   "cell_type": "code",
   "execution_count": null,
   "metadata": {},
   "outputs": [],
   "source": [
    "###latest customer numbers\n",
    "customer.tail(4)"
   ]
  },
  {
   "cell_type": "code",
   "execution_count": null,
   "metadata": {},
   "outputs": [],
   "source": [
    "statement_trx = \"\"\"select P.ACCOUNT_NUMBER,p.cust_id,\n",
    "trim(C.SURNAME) || ' '|| trim(C.FIRST_NAME) ||' ' || trim(C.MIDDLE_NAME) as name,\n",
    "D.ID_TRANSACT,\n",
    "d.TIMESTAMP,\n",
    "D.ID_JUSTIFIC,\n",
    "J.DESCRIPTION,\n",
    "DECODE (D.DEBIT_CREDIT_FLAG,'2','CR','1','DR') \"DR/CR\",\n",
    "D.ENTRY_AMOUNT,\n",
    "D.PREV_ACC_BALANCE, \n",
    "D.VALUE_DATE,\n",
    "D.TRX_USR,\n",
    "D.ENTRY_COMMENTS\n",
    "from fst_demand_extrait d, justific j, profits_account p, customer c\n",
    "where\n",
    "D.ID_JUSTIFIC = J.ID_JUSTIFIC\n",
    "and\n",
    "P.CUST_ID = C.CUST_ID\n",
    "and\n",
    "D.FK_DEPOSIT_ACCOACC= P.DEP_ACC_NUMBER\n",
    "and p.PRFT_SYSTEM=3\n",
    "and trunc(d.TIMESTAMP) >= to_date('01-06-2019','dd-mm-yyyy')\n",
    "and trunc(d.TIMESTAMP) <= to_date('30-09-2019','dd-mm-yyyy')\n",
    "order by D.VALUE_DATE asc\"\"\"\n",
    "trxns_data = pd.read_sql_query(statement_trx, connection)\n",
    "pd.set_option('display.max_columns', None)\n",
    "trxns_data.head(10)"
   ]
  },
  {
   "cell_type": "code",
   "execution_count": 7,
   "metadata": {},
   "outputs": [
    {
     "ename": "DatabaseError",
     "evalue": "Execution failed on sql: SELECT distinct D.TMSTAMP,\n       D.TRX_DATE,\n       d.TRX_UNIT,\n       d.TRX_USR,\n       d.TRX_USR_SN,\n       d.TUN_INTERNAL_SN,\n          TRIM (TO_CHAR (D.TRX_DATE, 'yyyymmdd'))\n       || ''\n       || TRIM (D.TRX_UNIT)\n       || ''\n       || TRIM (D.TRX_USR)\n       || ''\n       || TRIM (ABS (D.TRX_USR_SN) - 1)\n       || ''\n       || TRIM (D.TUN_INTERNAL_SN)\n          AS TRANSACTION_REF,\n       P.DESCRIPTION AS PRODUCT_DESCRIPTION,\n       R.ACCOUNT_NUMBER,\n       A.DESIGNATION AS ACCOUNT_NAME,\n       D.I_ID_JUSTIFIC,\n       J.DESCRIPTION AS TRANSACTION_TYPE,\n       ABS (D.I_AMOUNT) \"TRANSACTION_AMOUNT\",\n       D.ACC_AMOUNT_40 AS COMMISSION,\n       D.I_COMMENTS TRX_COMMENTS,\n       F.REVERSE_FLAG,\n       F.REVERSED_TRX_FLAG\n  FROM DEP_TRX_RECORDING D,\n       JUSTIFIC J,\n       PRODUCT P,\n       DEPOSIT_ACCOUNT A,\n       PROFITS_ACCOUNT R,\n       FST_DEMAND_EXTRAIT F\nWHERE    -- D.TRX_USR LIKE 'KOCE%'\n       A.ACCOUNT_NUMBER = D.I_ACCOUNT_NUMBER\n       AND R.DEP_ACC_NUMBER = D.I_ACCOUNT_NUMBER\n       AND R.DEP_ACC_NUMBER = F.FK_DEPOSIT_ACCOACC\n       AND A.ACCOUNT_NUMBER = F.FK_DEPOSIT_ACCOACC\n       AND D.ID_PRODUCT = P.ID_PRODUCT\n       AND D.I_ID_JUSTIFIC = J.ID_JUSTIFIC\n       AND F.TRX_DATE = D.TRX_DATE\n       AND F.TRX_UNIT = D.TRX_UNIT\n       AND F.TRX_SN = D.TRX_USR_SN\n       AND F.TRX_USR = D.TRX_USR\n       AND F.TUN_INTERNAL_SN = D.TUN_INTERNAL_SN\n       AND D.TRX_DATE BETWEEN TO_DATE ('01-01-2019', 'dd-mm-yyyy')\n                          AND TO_DATE ('30-06-2019', 'dd-mm-yyyy')\n       --AND D.I_ID_JUSTIFIC IN (31804,31805,31815,32096,32097,32099,32096,32097,32099)\n       AND R.PRFT_SYSTEM = 3\n       AND R.PRODUCT_ID IN (31102,\n                            31103,\n                            31104,\n                            31112,\n                            31113,\n                            31501,\n                            31511,\n                            31521,\n                            31531,\n                            31541,\n                            31551,\n                            31561,\n                            31572,\n                            31703,\n                            31704,\n                            31705,\n                            31718,\n                            31719,\n                            31721,\n                            31730,\n                            31731,\n                            31732,\n                            31750,\n                            31761,\n                            31771)\n       AND F.REVERSE_FLAG = 0\n       AND F.REVERSED_TRX_FLAG = 0\n       AND D.ACC_AMOUNT_40 <> 0\n       \n       \nORA-03114: not connected to ORACLE\nunable to rollback",
     "output_type": "error",
     "traceback": [
      "\u001b[0;31m---------------------------------------------------------------------------\u001b[0m",
      "\u001b[0;31mDatabaseError\u001b[0m                             Traceback (most recent call last)",
      "\u001b[0;32m<ipython-input-7-0f6136d48135>\u001b[0m in \u001b[0;36m<module>\u001b[0;34m()\u001b[0m\n\u001b[1;32m     79\u001b[0m \u001b[0;34m\u001b[0m\u001b[0m\n\u001b[1;32m     80\u001b[0m        \"\"\"\n\u001b[0;32m---> 81\u001b[0;31m \u001b[0mtrxns_data_3\u001b[0m \u001b[0;34m=\u001b[0m \u001b[0mpd\u001b[0m\u001b[0;34m.\u001b[0m\u001b[0mread_sql_query\u001b[0m\u001b[0;34m(\u001b[0m\u001b[0mstatement_3\u001b[0m\u001b[0;34m,\u001b[0m \u001b[0mconnection\u001b[0m\u001b[0;34m)\u001b[0m\u001b[0;34m\u001b[0m\u001b[0m\n\u001b[0m\u001b[1;32m     82\u001b[0m \u001b[0mpd\u001b[0m\u001b[0;34m.\u001b[0m\u001b[0mset_option\u001b[0m\u001b[0;34m(\u001b[0m\u001b[0;34m'display.max_columns'\u001b[0m\u001b[0;34m,\u001b[0m \u001b[0mNone\u001b[0m\u001b[0;34m)\u001b[0m\u001b[0;34m\u001b[0m\u001b[0m\n\u001b[1;32m     83\u001b[0m \u001b[0mtrxns_data_3\u001b[0m\u001b[0;34m.\u001b[0m\u001b[0mhead\u001b[0m\u001b[0;34m(\u001b[0m\u001b[0;36m10\u001b[0m\u001b[0;34m)\u001b[0m\u001b[0;34m\u001b[0m\u001b[0m\n",
      "\u001b[0;32m/Users/allan.aswani/etl/lib/python2.7/site-packages/pandas/io/sql.pyc\u001b[0m in \u001b[0;36mread_sql_query\u001b[0;34m(sql, con, index_col, coerce_float, params, parse_dates, chunksize)\u001b[0m\n\u001b[1;32m    312\u001b[0m     return pandas_sql.read_query(\n\u001b[1;32m    313\u001b[0m         \u001b[0msql\u001b[0m\u001b[0;34m,\u001b[0m \u001b[0mindex_col\u001b[0m\u001b[0;34m=\u001b[0m\u001b[0mindex_col\u001b[0m\u001b[0;34m,\u001b[0m \u001b[0mparams\u001b[0m\u001b[0;34m=\u001b[0m\u001b[0mparams\u001b[0m\u001b[0;34m,\u001b[0m \u001b[0mcoerce_float\u001b[0m\u001b[0;34m=\u001b[0m\u001b[0mcoerce_float\u001b[0m\u001b[0;34m,\u001b[0m\u001b[0;34m\u001b[0m\u001b[0m\n\u001b[0;32m--> 314\u001b[0;31m         parse_dates=parse_dates, chunksize=chunksize)\n\u001b[0m\u001b[1;32m    315\u001b[0m \u001b[0;34m\u001b[0m\u001b[0m\n\u001b[1;32m    316\u001b[0m \u001b[0;34m\u001b[0m\u001b[0m\n",
      "\u001b[0;32m/Users/allan.aswani/etl/lib/python2.7/site-packages/pandas/io/sql.pyc\u001b[0m in \u001b[0;36mread_query\u001b[0;34m(self, sql, index_col, coerce_float, params, parse_dates, chunksize)\u001b[0m\n\u001b[1;32m   1466\u001b[0m \u001b[0;34m\u001b[0m\u001b[0m\n\u001b[1;32m   1467\u001b[0m         \u001b[0margs\u001b[0m \u001b[0;34m=\u001b[0m \u001b[0m_convert_params\u001b[0m\u001b[0;34m(\u001b[0m\u001b[0msql\u001b[0m\u001b[0;34m,\u001b[0m \u001b[0mparams\u001b[0m\u001b[0;34m)\u001b[0m\u001b[0;34m\u001b[0m\u001b[0m\n\u001b[0;32m-> 1468\u001b[0;31m         \u001b[0mcursor\u001b[0m \u001b[0;34m=\u001b[0m \u001b[0mself\u001b[0m\u001b[0;34m.\u001b[0m\u001b[0mexecute\u001b[0m\u001b[0;34m(\u001b[0m\u001b[0;34m*\u001b[0m\u001b[0margs\u001b[0m\u001b[0;34m)\u001b[0m\u001b[0;34m\u001b[0m\u001b[0m\n\u001b[0m\u001b[1;32m   1469\u001b[0m         \u001b[0mcolumns\u001b[0m \u001b[0;34m=\u001b[0m \u001b[0;34m[\u001b[0m\u001b[0mcol_desc\u001b[0m\u001b[0;34m[\u001b[0m\u001b[0;36m0\u001b[0m\u001b[0;34m]\u001b[0m \u001b[0;32mfor\u001b[0m \u001b[0mcol_desc\u001b[0m \u001b[0;32min\u001b[0m \u001b[0mcursor\u001b[0m\u001b[0;34m.\u001b[0m\u001b[0mdescription\u001b[0m\u001b[0;34m]\u001b[0m\u001b[0;34m\u001b[0m\u001b[0m\n\u001b[1;32m   1470\u001b[0m \u001b[0;34m\u001b[0m\u001b[0m\n",
      "\u001b[0;32m/Users/allan.aswani/etl/lib/python2.7/site-packages/pandas/io/sql.pyc\u001b[0m in \u001b[0;36mexecute\u001b[0;34m(self, *args, **kwargs)\u001b[0m\n\u001b[1;32m   1438\u001b[0m                     \u001b[0;34m\"Execution failed on sql: {sql}\\n{exc}\\nunable \"\u001b[0m\u001b[0;34m\u001b[0m\u001b[0m\n\u001b[1;32m   1439\u001b[0m                     \"to rollback\".format(sql=args[0], exc=exc))\n\u001b[0;32m-> 1440\u001b[0;31m                 \u001b[0mraise_with_traceback\u001b[0m\u001b[0;34m(\u001b[0m\u001b[0mex\u001b[0m\u001b[0;34m)\u001b[0m\u001b[0;34m\u001b[0m\u001b[0m\n\u001b[0m\u001b[1;32m   1441\u001b[0m \u001b[0;34m\u001b[0m\u001b[0m\n\u001b[1;32m   1442\u001b[0m             ex = DatabaseError(\n",
      "\u001b[0;32m/Users/allan.aswani/etl/lib/python2.7/site-packages/pandas/io/sql.pyc\u001b[0m in \u001b[0;36mexecute\u001b[0;34m(self, *args, **kwargs)\u001b[0m\n\u001b[1;32m   1433\u001b[0m         \u001b[0;32mexcept\u001b[0m \u001b[0mException\u001b[0m \u001b[0;32mas\u001b[0m \u001b[0mexc\u001b[0m\u001b[0;34m:\u001b[0m\u001b[0;34m\u001b[0m\u001b[0m\n\u001b[1;32m   1434\u001b[0m             \u001b[0;32mtry\u001b[0m\u001b[0;34m:\u001b[0m\u001b[0;34m\u001b[0m\u001b[0m\n\u001b[0;32m-> 1435\u001b[0;31m                 \u001b[0mself\u001b[0m\u001b[0;34m.\u001b[0m\u001b[0mcon\u001b[0m\u001b[0;34m.\u001b[0m\u001b[0mrollback\u001b[0m\u001b[0;34m(\u001b[0m\u001b[0;34m)\u001b[0m\u001b[0;34m\u001b[0m\u001b[0m\n\u001b[0m\u001b[1;32m   1436\u001b[0m             \u001b[0;32mexcept\u001b[0m \u001b[0mException\u001b[0m\u001b[0;34m:\u001b[0m  \u001b[0;31m# pragma: no cover\u001b[0m\u001b[0;34m\u001b[0m\u001b[0m\n\u001b[1;32m   1437\u001b[0m                 ex = DatabaseError(\n",
      "\u001b[0;31mDatabaseError\u001b[0m: Execution failed on sql: SELECT distinct D.TMSTAMP,\n       D.TRX_DATE,\n       d.TRX_UNIT,\n       d.TRX_USR,\n       d.TRX_USR_SN,\n       d.TUN_INTERNAL_SN,\n          TRIM (TO_CHAR (D.TRX_DATE, 'yyyymmdd'))\n       || ''\n       || TRIM (D.TRX_UNIT)\n       || ''\n       || TRIM (D.TRX_USR)\n       || ''\n       || TRIM (ABS (D.TRX_USR_SN) - 1)\n       || ''\n       || TRIM (D.TUN_INTERNAL_SN)\n          AS TRANSACTION_REF,\n       P.DESCRIPTION AS PRODUCT_DESCRIPTION,\n       R.ACCOUNT_NUMBER,\n       A.DESIGNATION AS ACCOUNT_NAME,\n       D.I_ID_JUSTIFIC,\n       J.DESCRIPTION AS TRANSACTION_TYPE,\n       ABS (D.I_AMOUNT) \"TRANSACTION_AMOUNT\",\n       D.ACC_AMOUNT_40 AS COMMISSION,\n       D.I_COMMENTS TRX_COMMENTS,\n       F.REVERSE_FLAG,\n       F.REVERSED_TRX_FLAG\n  FROM DEP_TRX_RECORDING D,\n       JUSTIFIC J,\n       PRODUCT P,\n       DEPOSIT_ACCOUNT A,\n       PROFITS_ACCOUNT R,\n       FST_DEMAND_EXTRAIT F\nWHERE    -- D.TRX_USR LIKE 'KOCE%'\n       A.ACCOUNT_NUMBER = D.I_ACCOUNT_NUMBER\n       AND R.DEP_ACC_NUMBER = D.I_ACCOUNT_NUMBER\n       AND R.DEP_ACC_NUMBER = F.FK_DEPOSIT_ACCOACC\n       AND A.ACCOUNT_NUMBER = F.FK_DEPOSIT_ACCOACC\n       AND D.ID_PRODUCT = P.ID_PRODUCT\n       AND D.I_ID_JUSTIFIC = J.ID_JUSTIFIC\n       AND F.TRX_DATE = D.TRX_DATE\n       AND F.TRX_UNIT = D.TRX_UNIT\n       AND F.TRX_SN = D.TRX_USR_SN\n       AND F.TRX_USR = D.TRX_USR\n       AND F.TUN_INTERNAL_SN = D.TUN_INTERNAL_SN\n       AND D.TRX_DATE BETWEEN TO_DATE ('01-01-2019', 'dd-mm-yyyy')\n                          AND TO_DATE ('30-06-2019', 'dd-mm-yyyy')\n       --AND D.I_ID_JUSTIFIC IN (31804,31805,31815,32096,32097,32099,32096,32097,32099)\n       AND R.PRFT_SYSTEM = 3\n       AND R.PRODUCT_ID IN (31102,\n                            31103,\n                            31104,\n                            31112,\n                            31113,\n                            31501,\n                            31511,\n                            31521,\n                            31531,\n                            31541,\n                            31551,\n                            31561,\n                            31572,\n                            31703,\n                            31704,\n                            31705,\n                            31718,\n                            31719,\n                            31721,\n                            31730,\n                            31731,\n                            31732,\n                            31750,\n                            31761,\n                            31771)\n       AND F.REVERSE_FLAG = 0\n       AND F.REVERSED_TRX_FLAG = 0\n       AND D.ACC_AMOUNT_40 <> 0\n       \n       \nORA-03114: not connected to ORACLE\nunable to rollback"
     ]
    }
   ],
   "source": [
    "#thiss has errors\n",
    "\n",
    "statement_3 = \"\"\"SELECT distinct D.TMSTAMP,\n",
    "       D.TRX_DATE,\n",
    "       d.TRX_UNIT,\n",
    "       d.TRX_USR,\n",
    "       d.TRX_USR_SN,\n",
    "       d.TUN_INTERNAL_SN,\n",
    "          TRIM (TO_CHAR (D.TRX_DATE, 'yyyymmdd'))\n",
    "       || ''\n",
    "       || TRIM (D.TRX_UNIT)\n",
    "       || ''\n",
    "       || TRIM (D.TRX_USR)\n",
    "       || ''\n",
    "       || TRIM (ABS (D.TRX_USR_SN) - 1)\n",
    "       || ''\n",
    "       || TRIM (D.TUN_INTERNAL_SN)\n",
    "          AS TRANSACTION_REF,\n",
    "       P.DESCRIPTION AS PRODUCT_DESCRIPTION,\n",
    "       R.ACCOUNT_NUMBER,\n",
    "       A.DESIGNATION AS ACCOUNT_NAME,\n",
    "       D.I_ID_JUSTIFIC,\n",
    "       J.DESCRIPTION AS TRANSACTION_TYPE,\n",
    "       ABS (D.I_AMOUNT) \"TRANSACTION_AMOUNT\",\n",
    "       D.ACC_AMOUNT_40 AS COMMISSION,\n",
    "       D.I_COMMENTS TRX_COMMENTS,\n",
    "       F.REVERSE_FLAG,\n",
    "       F.REVERSED_TRX_FLAG\n",
    "  FROM DEP_TRX_RECORDING D,\n",
    "       JUSTIFIC J,\n",
    "       PRODUCT P,\n",
    "       DEPOSIT_ACCOUNT A,\n",
    "       PROFITS_ACCOUNT R,\n",
    "       FST_DEMAND_EXTRAIT F\n",
    "WHERE    -- D.TRX_USR LIKE 'KOCE%'\n",
    "       A.ACCOUNT_NUMBER = D.I_ACCOUNT_NUMBER\n",
    "       AND R.DEP_ACC_NUMBER = D.I_ACCOUNT_NUMBER\n",
    "       AND R.DEP_ACC_NUMBER = F.FK_DEPOSIT_ACCOACC\n",
    "       AND A.ACCOUNT_NUMBER = F.FK_DEPOSIT_ACCOACC\n",
    "       AND D.ID_PRODUCT = P.ID_PRODUCT\n",
    "       AND D.I_ID_JUSTIFIC = J.ID_JUSTIFIC\n",
    "       AND F.TRX_DATE = D.TRX_DATE\n",
    "       AND F.TRX_UNIT = D.TRX_UNIT\n",
    "       AND F.TRX_SN = D.TRX_USR_SN\n",
    "       AND F.TRX_USR = D.TRX_USR\n",
    "       AND F.TUN_INTERNAL_SN = D.TUN_INTERNAL_SN\n",
    "       AND D.TRX_DATE BETWEEN TO_DATE ('01-01-2019', 'dd-mm-yyyy')\n",
    "                          AND TO_DATE ('30-06-2019', 'dd-mm-yyyy')\n",
    "       --AND D.I_ID_JUSTIFIC IN (31804,31805,31815,32096,32097,32099,32096,32097,32099)\n",
    "       AND R.PRFT_SYSTEM = 3\n",
    "       AND R.PRODUCT_ID IN (31102,\n",
    "                            31103,\n",
    "                            31104,\n",
    "                            31112,\n",
    "                            31113,\n",
    "                            31501,\n",
    "                            31511,\n",
    "                            31521,\n",
    "                            31531,\n",
    "                            31541,\n",
    "                            31551,\n",
    "                            31561,\n",
    "                            31572,\n",
    "                            31703,\n",
    "                            31704,\n",
    "                            31705,\n",
    "                            31718,\n",
    "                            31719,\n",
    "                            31721,\n",
    "                            31730,\n",
    "                            31731,\n",
    "                            31732,\n",
    "                            31750,\n",
    "                            31761,\n",
    "                            31771)\n",
    "       AND F.REVERSE_FLAG = 0\n",
    "       AND F.REVERSED_TRX_FLAG = 0\n",
    "       AND D.ACC_AMOUNT_40 <> 0\n",
    "       \n",
    "       \"\"\"\n",
    "trxns_data_3 = pd.read_sql_query(statement_3, connection)\n",
    "pd.set_option('display.max_columns', None)\n",
    "trxns_data_3.head(10)\n"
   ]
  },
  {
   "cell_type": "code",
   "execution_count": 11,
   "metadata": {},
   "outputs": [
    {
     "ename": "DatabaseError",
     "evalue": "Execution failed on sql 'SELECT D.TMSTAMP,\n\t      D.TRX_DATE,\n\t      --P.DESCRIPTION AS PRODUCT_DESCRIPTION, \n\t      C.MOBILE_TEL,O.ID_NO, \n\t      R.ACCOUNT_NUMBER,\n              A.DESIGNATION AS ACCOUNT_NAME, \n              D.I_ID_JUSTIFIC,\n             J.DESCRIPTION AS TRANSACTION_TYPE,\n             D.O_FINAL_ACC_AMOUNT AS TRANSACTION_AMOUNT, \n\t     D.ACC_AMOUNT_40 AS COMMISSION,D.I_COMMENTS , \n\t    COUNT(D.O_FINAL_ACC_AMOUNT) AS COUNT_OF_TRANSACTIONS_MADE\n\t    SUM(D.O_FINAL_ACC_AMOUNT)\tAS AMOUNTS_COLLECTED \n            SUM(D.ACC_AMOUNT_40) AS AMOUNT_EARNED_FROM_CUSTOMER\nfrom DEP_TRX_RECORDING D, JUSTIFIC J, PRODUCT P, DEPOSIT_ACCOUNT A, PROFITS_ACCOUNT R, customer c,OTHER_ID O\nWHERE 1=1\n--D.TRX_USR = 'KOCE0001'\nAND A.ACCOUNT_NUMBER = D.I_ACCOUNT_NUMBER\nAND R.DEP_ACC_NUMBER = D.I_ACCOUNT_NUMBER\nAND D.ID_PRODUCT = P.ID_PRODUCT\nAND D.I_ID_JUSTIFIC = J.ID_JUSTIFIC\nAND D.TRX_DATE between TO_DATE('01/01/2018', 'MM/DD/YYYY') and\nTO_DATE('08/27/2019', 'MM/DD/YYYY')\n--AND D.I_ID_JUSTIFIC IN (32096,32097,32098,32099,32100)\nAND R.PRFT_SYSTEM = 3\n—want paybill, utility, buygoods\nAND D.I_ID_JUSTIFIC  IN (32100)\nAND R.CUST_ID=C.CUST_ID\nAND R.CUST_ID=O.FK_CUSTOMERCUST_ID\nAND D.TRX_USR  LIKE  'KOCE%’\nGROUP BY A.DESIGNATION , C.MOBILE_TEL, DATEPART(MONTH,D.TMSTAMP),DATEPART(YEAR,D.TMSTAMP)\nORDER BY A.DESIGNATION, D.TMSTAMP DESC ': ORA-01756: quoted string not properly terminated",
     "output_type": "error",
     "traceback": [
      "\u001b[0;31m---------------------------------------------------------------------------\u001b[0m",
      "\u001b[0;31mDatabaseError\u001b[0m                             Traceback (most recent call last)",
      "\u001b[0;32m<ipython-input-11-b53e846d453e>\u001b[0m in \u001b[0;36m<module>\u001b[0;34m()\u001b[0m\n\u001b[1;32m     30\u001b[0m \u001b[0mGROUP\u001b[0m \u001b[0mBY\u001b[0m \u001b[0mA\u001b[0m\u001b[0;34m.\u001b[0m\u001b[0mDESIGNATION\u001b[0m \u001b[0;34m,\u001b[0m \u001b[0mC\u001b[0m\u001b[0;34m.\u001b[0m\u001b[0mMOBILE_TEL\u001b[0m\u001b[0;34m,\u001b[0m \u001b[0mDATEPART\u001b[0m\u001b[0;34m(\u001b[0m\u001b[0mMONTH\u001b[0m\u001b[0;34m,\u001b[0m\u001b[0mD\u001b[0m\u001b[0;34m.\u001b[0m\u001b[0mTMSTAMP\u001b[0m\u001b[0;34m)\u001b[0m\u001b[0;34m,\u001b[0m\u001b[0mDATEPART\u001b[0m\u001b[0;34m(\u001b[0m\u001b[0mYEAR\u001b[0m\u001b[0;34m,\u001b[0m\u001b[0mD\u001b[0m\u001b[0;34m.\u001b[0m\u001b[0mTMSTAMP\u001b[0m\u001b[0;34m)\u001b[0m\u001b[0;34m\u001b[0m\u001b[0m\n\u001b[1;32m     31\u001b[0m ORDER BY A.DESIGNATION, D.TMSTAMP DESC '''\n\u001b[0;32m---> 32\u001b[0;31m \u001b[0mtrxns_data_4\u001b[0m \u001b[0;34m=\u001b[0m \u001b[0mpd\u001b[0m\u001b[0;34m.\u001b[0m\u001b[0mread_sql_query\u001b[0m\u001b[0;34m(\u001b[0m\u001b[0mstatement_4\u001b[0m\u001b[0;34m,\u001b[0m \u001b[0mconnection\u001b[0m\u001b[0;34m)\u001b[0m\u001b[0;34m\u001b[0m\u001b[0m\n\u001b[0m\u001b[1;32m     33\u001b[0m \u001b[0mpd\u001b[0m\u001b[0;34m.\u001b[0m\u001b[0mset_option\u001b[0m\u001b[0;34m(\u001b[0m\u001b[0;34m'display.max_columns'\u001b[0m\u001b[0;34m,\u001b[0m \u001b[0mNone\u001b[0m\u001b[0;34m)\u001b[0m\u001b[0;34m\u001b[0m\u001b[0m\n\u001b[1;32m     34\u001b[0m \u001b[0mtrxns_data_4\u001b[0m\u001b[0;34m.\u001b[0m\u001b[0mhead\u001b[0m\u001b[0;34m(\u001b[0m\u001b[0;36m10\u001b[0m\u001b[0;34m)\u001b[0m\u001b[0;34m\u001b[0m\u001b[0m\n",
      "\u001b[0;32m/Users/allan.aswani/etl/lib/python2.7/site-packages/pandas/io/sql.pyc\u001b[0m in \u001b[0;36mread_sql_query\u001b[0;34m(sql, con, index_col, coerce_float, params, parse_dates, chunksize)\u001b[0m\n\u001b[1;32m    312\u001b[0m     return pandas_sql.read_query(\n\u001b[1;32m    313\u001b[0m         \u001b[0msql\u001b[0m\u001b[0;34m,\u001b[0m \u001b[0mindex_col\u001b[0m\u001b[0;34m=\u001b[0m\u001b[0mindex_col\u001b[0m\u001b[0;34m,\u001b[0m \u001b[0mparams\u001b[0m\u001b[0;34m=\u001b[0m\u001b[0mparams\u001b[0m\u001b[0;34m,\u001b[0m \u001b[0mcoerce_float\u001b[0m\u001b[0;34m=\u001b[0m\u001b[0mcoerce_float\u001b[0m\u001b[0;34m,\u001b[0m\u001b[0;34m\u001b[0m\u001b[0m\n\u001b[0;32m--> 314\u001b[0;31m         parse_dates=parse_dates, chunksize=chunksize)\n\u001b[0m\u001b[1;32m    315\u001b[0m \u001b[0;34m\u001b[0m\u001b[0m\n\u001b[1;32m    316\u001b[0m \u001b[0;34m\u001b[0m\u001b[0m\n",
      "\u001b[0;32m/Users/allan.aswani/etl/lib/python2.7/site-packages/pandas/io/sql.pyc\u001b[0m in \u001b[0;36mread_query\u001b[0;34m(self, sql, index_col, coerce_float, params, parse_dates, chunksize)\u001b[0m\n\u001b[1;32m   1466\u001b[0m \u001b[0;34m\u001b[0m\u001b[0m\n\u001b[1;32m   1467\u001b[0m         \u001b[0margs\u001b[0m \u001b[0;34m=\u001b[0m \u001b[0m_convert_params\u001b[0m\u001b[0;34m(\u001b[0m\u001b[0msql\u001b[0m\u001b[0;34m,\u001b[0m \u001b[0mparams\u001b[0m\u001b[0;34m)\u001b[0m\u001b[0;34m\u001b[0m\u001b[0m\n\u001b[0;32m-> 1468\u001b[0;31m         \u001b[0mcursor\u001b[0m \u001b[0;34m=\u001b[0m \u001b[0mself\u001b[0m\u001b[0;34m.\u001b[0m\u001b[0mexecute\u001b[0m\u001b[0;34m(\u001b[0m\u001b[0;34m*\u001b[0m\u001b[0margs\u001b[0m\u001b[0;34m)\u001b[0m\u001b[0;34m\u001b[0m\u001b[0m\n\u001b[0m\u001b[1;32m   1469\u001b[0m         \u001b[0mcolumns\u001b[0m \u001b[0;34m=\u001b[0m \u001b[0;34m[\u001b[0m\u001b[0mcol_desc\u001b[0m\u001b[0;34m[\u001b[0m\u001b[0;36m0\u001b[0m\u001b[0;34m]\u001b[0m \u001b[0;32mfor\u001b[0m \u001b[0mcol_desc\u001b[0m \u001b[0;32min\u001b[0m \u001b[0mcursor\u001b[0m\u001b[0;34m.\u001b[0m\u001b[0mdescription\u001b[0m\u001b[0;34m]\u001b[0m\u001b[0;34m\u001b[0m\u001b[0m\n\u001b[1;32m   1470\u001b[0m \u001b[0;34m\u001b[0m\u001b[0m\n",
      "\u001b[0;32m/Users/allan.aswani/etl/lib/python2.7/site-packages/pandas/io/sql.pyc\u001b[0m in \u001b[0;36mexecute\u001b[0;34m(self, *args, **kwargs)\u001b[0m\n\u001b[1;32m   1443\u001b[0m                 \"Execution failed on sql '{sql}': {exc}\".format(\n\u001b[1;32m   1444\u001b[0m                     sql=args[0], exc=exc))\n\u001b[0;32m-> 1445\u001b[0;31m             \u001b[0mraise_with_traceback\u001b[0m\u001b[0;34m(\u001b[0m\u001b[0mex\u001b[0m\u001b[0;34m)\u001b[0m\u001b[0;34m\u001b[0m\u001b[0m\n\u001b[0m\u001b[1;32m   1446\u001b[0m \u001b[0;34m\u001b[0m\u001b[0m\n\u001b[1;32m   1447\u001b[0m     \u001b[0;34m@\u001b[0m\u001b[0mstaticmethod\u001b[0m\u001b[0;34m\u001b[0m\u001b[0m\n",
      "\u001b[0;32m/Users/allan.aswani/etl/lib/python2.7/site-packages/pandas/io/sql.pyc\u001b[0m in \u001b[0;36mexecute\u001b[0;34m(self, *args, **kwargs)\u001b[0m\n\u001b[1;32m   1429\u001b[0m                 \u001b[0mcur\u001b[0m\u001b[0;34m.\u001b[0m\u001b[0mexecute\u001b[0m\u001b[0;34m(\u001b[0m\u001b[0;34m*\u001b[0m\u001b[0margs\u001b[0m\u001b[0;34m,\u001b[0m \u001b[0;34m**\u001b[0m\u001b[0mkwargs\u001b[0m\u001b[0;34m)\u001b[0m\u001b[0;34m\u001b[0m\u001b[0m\n\u001b[1;32m   1430\u001b[0m             \u001b[0;32melse\u001b[0m\u001b[0;34m:\u001b[0m\u001b[0;34m\u001b[0m\u001b[0m\n\u001b[0;32m-> 1431\u001b[0;31m                 \u001b[0mcur\u001b[0m\u001b[0;34m.\u001b[0m\u001b[0mexecute\u001b[0m\u001b[0;34m(\u001b[0m\u001b[0;34m*\u001b[0m\u001b[0margs\u001b[0m\u001b[0;34m)\u001b[0m\u001b[0;34m\u001b[0m\u001b[0m\n\u001b[0m\u001b[1;32m   1432\u001b[0m             \u001b[0;32mreturn\u001b[0m \u001b[0mcur\u001b[0m\u001b[0;34m\u001b[0m\u001b[0m\n\u001b[1;32m   1433\u001b[0m         \u001b[0;32mexcept\u001b[0m \u001b[0mException\u001b[0m \u001b[0;32mas\u001b[0m \u001b[0mexc\u001b[0m\u001b[0;34m:\u001b[0m\u001b[0;34m\u001b[0m\u001b[0m\n",
      "\u001b[0;31mDatabaseError\u001b[0m: Execution failed on sql 'SELECT D.TMSTAMP,\n\t      D.TRX_DATE,\n\t      --P.DESCRIPTION AS PRODUCT_DESCRIPTION, \n\t      C.MOBILE_TEL,O.ID_NO, \n\t      R.ACCOUNT_NUMBER,\n              A.DESIGNATION AS ACCOUNT_NAME, \n              D.I_ID_JUSTIFIC,\n             J.DESCRIPTION AS TRANSACTION_TYPE,\n             D.O_FINAL_ACC_AMOUNT AS TRANSACTION_AMOUNT, \n\t     D.ACC_AMOUNT_40 AS COMMISSION,D.I_COMMENTS , \n\t    COUNT(D.O_FINAL_ACC_AMOUNT) AS COUNT_OF_TRANSACTIONS_MADE\n\t    SUM(D.O_FINAL_ACC_AMOUNT)\tAS AMOUNTS_COLLECTED \n            SUM(D.ACC_AMOUNT_40) AS AMOUNT_EARNED_FROM_CUSTOMER\nfrom DEP_TRX_RECORDING D, JUSTIFIC J, PRODUCT P, DEPOSIT_ACCOUNT A, PROFITS_ACCOUNT R, customer c,OTHER_ID O\nWHERE 1=1\n--D.TRX_USR = 'KOCE0001'\nAND A.ACCOUNT_NUMBER = D.I_ACCOUNT_NUMBER\nAND R.DEP_ACC_NUMBER = D.I_ACCOUNT_NUMBER\nAND D.ID_PRODUCT = P.ID_PRODUCT\nAND D.I_ID_JUSTIFIC = J.ID_JUSTIFIC\nAND D.TRX_DATE between TO_DATE('01/01/2018', 'MM/DD/YYYY') and\nTO_DATE('08/27/2019', 'MM/DD/YYYY')\n--AND D.I_ID_JUSTIFIC IN (32096,32097,32098,32099,32100)\nAND R.PRFT_SYSTEM = 3\n—want paybill, utility, buygoods\nAND D.I_ID_JUSTIFIC  IN (32100)\nAND R.CUST_ID=C.CUST_ID\nAND R.CUST_ID=O.FK_CUSTOMERCUST_ID\nAND D.TRX_USR  LIKE  'KOCE%’\nGROUP BY A.DESIGNATION , C.MOBILE_TEL, DATEPART(MONTH,D.TMSTAMP),DATEPART(YEAR,D.TMSTAMP)\nORDER BY A.DESIGNATION, D.TMSTAMP DESC ': ORA-01756: quoted string not properly terminated"
     ]
    }
   ],
   "source": []
  },
  {
   "cell_type": "code",
   "execution_count": null,
   "metadata": {},
   "outputs": [],
   "source": []
  }
 ],
 "metadata": {
  "kernelspec": {
   "display_name": "Python 2",
   "language": "python",
   "name": "python2"
  },
  "language_info": {
   "codemirror_mode": {
    "name": "ipython",
    "version": 2
   },
   "file_extension": ".py",
   "mimetype": "text/x-python",
   "name": "python",
   "nbconvert_exporter": "python",
   "pygments_lexer": "ipython2",
   "version": "2.7.10"
  }
 },
 "nbformat": 4,
 "nbformat_minor": 2
}
